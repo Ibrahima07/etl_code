{
  "nbformat": 4,
  "nbformat_minor": 0,
  "metadata": {
    "colab": {
      "provenance": [],
      "toc_visible": true,
      "authorship_tag": "ABX9TyNPYZGJVHn8FWc8c14rSRlR",
      "include_colab_link": true
    },
    "kernelspec": {
      "name": "python3",
      "display_name": "Python 3"
    },
    "language_info": {
      "name": "python"
    }
  },
  "cells": [
    {
      "cell_type": "markdown",
      "metadata": {
        "id": "view-in-github",
        "colab_type": "text"
      },
      "source": [
        "<a href=\"https://colab.research.google.com/github/Ibrahima07/etl_code/blob/main/elt_code.ipynb\" target=\"_parent\"><img src=\"https://colab.research.google.com/assets/colab-badge.svg\" alt=\"Open In Colab\"/></a>"
      ]
    },
    {
      "cell_type": "code",
      "execution_count": 1,
      "metadata": {
        "id": "iCQoMF4OqqXQ",
        "colab": {
          "base_uri": "https://localhost:8080/"
        },
        "outputId": "8ffb7a77-5dc9-4f7b-f7d1-c65ec8a215b4"
      },
      "outputs": [
        {
          "output_type": "stream",
          "name": "stdout",
          "text": [
            "--2024-06-28 20:02:10--  https://cf-courses-data.s3.us.cloud-object-storage.appdomain.cloud/IBMDeveloperSkillsNetwork-PY0221EN-SkillsNetwork/labs/module%206/Lab%20-%20Extract%20Transform%20Load/data/source.zip\n",
            "Resolving cf-courses-data.s3.us.cloud-object-storage.appdomain.cloud (cf-courses-data.s3.us.cloud-object-storage.appdomain.cloud)... 198.23.119.245\n",
            "Connecting to cf-courses-data.s3.us.cloud-object-storage.appdomain.cloud (cf-courses-data.s3.us.cloud-object-storage.appdomain.cloud)|198.23.119.245|:443... connected.\n",
            "HTTP request sent, awaiting response... 200 OK\n",
            "Length: 2707 (2.6K) [application/zip]\n",
            "Saving to: ‘source.zip’\n",
            "\n",
            "source.zip          100%[===================>]   2.64K  --.-KB/s    in 0s      \n",
            "\n",
            "2024-06-28 20:02:11 (864 MB/s) - ‘source.zip’ saved [2707/2707]\n",
            "\n"
          ]
        }
      ],
      "source": [
        "!wget https://cf-courses-data.s3.us.cloud-object-storage.appdomain.cloud/IBMDeveloperSkillsNetwork-PY0221EN-SkillsNetwork/labs/module%206/Lab%20-%20Extract%20Transform%20Load/data/source.zip"
      ]
    },
    {
      "cell_type": "code",
      "source": [
        "!unzip source.zip"
      ],
      "metadata": {
        "colab": {
          "base_uri": "https://localhost:8080/"
        },
        "id": "iChh-i3uNq8f",
        "outputId": "47cd7a43-161c-42ce-b71f-c2c8a4f7d8b8"
      },
      "execution_count": 2,
      "outputs": [
        {
          "output_type": "stream",
          "name": "stdout",
          "text": [
            "Archive:  source.zip\n",
            "  inflating: source3.json            \n",
            "  inflating: source1.csv             \n",
            "  inflating: source2.csv             \n",
            "  inflating: source3.csv             \n",
            "  inflating: source1.json            \n",
            "  inflating: source2.json            \n",
            "  inflating: source1.xml             \n",
            "  inflating: source2.xml             \n",
            "  inflating: source3.xml             \n"
          ]
        }
      ]
    },
    {
      "cell_type": "markdown",
      "source": [
        "# **Import module**"
      ],
      "metadata": {
        "id": "0DR3e3pRTHsa"
      }
    },
    {
      "cell_type": "code",
      "source": [
        "import glob\n",
        "import pandas as pd\n",
        "import xml.etree.ElementTree as ET\n",
        "from datetime import datetime"
      ],
      "metadata": {
        "id": "7OUztt9PNwle"
      },
      "execution_count": 3,
      "outputs": []
    },
    {
      "cell_type": "markdown",
      "source": [
        "### Constante"
      ],
      "metadata": {
        "id": "SI6EwJrpUNRm"
      }
    },
    {
      "cell_type": "code",
      "source": [
        "log_file = \"log_file.txt\"\n",
        "target_file = \"transformed_data.csv\""
      ],
      "metadata": {
        "id": "yiPjvnvEUMDM"
      },
      "execution_count": 4,
      "outputs": []
    },
    {
      "cell_type": "markdown",
      "source": [
        "# **Extraction data**"
      ],
      "metadata": {
        "id": "j4Qw1mutVwHC"
      }
    },
    {
      "cell_type": "markdown",
      "source": [
        "### *Extraction data in csv file*"
      ],
      "metadata": {
        "id": "nHw0HUGLWNsh"
      }
    },
    {
      "cell_type": "code",
      "source": [
        "def extract_from_csv(file_to_process):\n",
        "  dateframe = pd.read_csv(file_to_process)\n",
        "  return dateframe"
      ],
      "metadata": {
        "id": "CaGdXMruVs26"
      },
      "execution_count": 5,
      "outputs": []
    },
    {
      "cell_type": "markdown",
      "source": [
        "### *Extraction data in json file*"
      ],
      "metadata": {
        "id": "RelvOTBoXC5h"
      }
    },
    {
      "cell_type": "code",
      "source": [
        "def extract_from_json(file_to_process):\n",
        "  dataframe = pd.read_json(file_to_process, lines=True)\n",
        "  return dataframe"
      ],
      "metadata": {
        "id": "TZn_yw6AXCfu"
      },
      "execution_count": 6,
      "outputs": []
    },
    {
      "cell_type": "markdown",
      "source": [
        "### *Extraction data in xml file*"
      ],
      "metadata": {
        "id": "C42n5tBzXeBd"
      }
    },
    {
      "cell_type": "code",
      "source": [
        "def extract_from_xml(file_to_process):\n",
        "  dataframe = pd.DataFrame(columns=[\"name\", \"height\", \"weight\"])\n",
        "  tree  = ET.parse(file_to_process)\n",
        "  root = tree.getroot()\n",
        "  for person in root:\n",
        "    name = person.find(\"name\").text\n",
        "    height = float(person.find(\"height\").text)\n",
        "    weight = float(person.find(\"weight\").text)\n",
        "    dataframe = pd.concat([dataframe, pd.DataFrame([{\"name\":name, \"height\":height, \"weight\":weight}])], ignore_index=True)\n",
        "\n",
        "  return dataframe\n",
        ""
      ],
      "metadata": {
        "id": "IgH5xPW1XiKq"
      },
      "execution_count": 14,
      "outputs": []
    },
    {
      "cell_type": "markdown",
      "source": [
        "### *Extraction data in all file*"
      ],
      "metadata": {
        "id": "8KVAk5CsjO6j"
      }
    },
    {
      "cell_type": "code",
      "source": [
        "def extract():\n",
        "  extracted_data = pd.DataFrame(columns=[\"name\", \"height\", \"weight\"])\n",
        "\n",
        "  # process all csv files\n",
        "  for csvfile in glob.glob(\"*.csv\"):\n",
        "    extracted_data = pd.concat([extracted_data, pd.DataFrame(extract_from_csv(csvfile))], ignore_index=True)\n",
        "\n",
        "  # process all json files\n",
        "  for jsonfile in glob.glob(\"*.json\"):\n",
        "    extracted_data = pd.concat([extracted_data, pd.DataFrame(extract_from_json(jsonfile))], ignore_index=True)\n",
        "\n",
        "  # process all xml files\n",
        "  for xmlfile in glob.glob(\"*.xml\"):\n",
        "    extracted_data = pd.concat([extracted_data, pd.DataFrame(extract_from_xml(xmlfile))], ignore_index=True)\n",
        "\n",
        "  return extracted_data\n"
      ],
      "metadata": {
        "id": "COT0mgD8fjEj"
      },
      "execution_count": 16,
      "outputs": []
    },
    {
      "cell_type": "markdown",
      "source": [
        "# **Transformation**"
      ],
      "metadata": {
        "id": "uBIonU0ImiGR"
      }
    },
    {
      "cell_type": "code",
      "source": [
        "def transform(data):\n",
        "\n",
        "  '''Convert inches to meters and round off to two decimals\n",
        "    1 inch is 0.0254 meters '''\n",
        "  data['height'] = round(data.height * 0.0254,2)\n",
        "\n",
        "  '''Convert pounds to kilograms and round off to two decimals\n",
        "    1 pound is 0.45359237 kilograms '''\n",
        "  data['weight'] = round(data.weight * 0.45359237,2)\n",
        "\n",
        "  return data"
      ],
      "metadata": {
        "id": "F3JTS2A0mldb"
      },
      "execution_count": 17,
      "outputs": []
    },
    {
      "cell_type": "markdown",
      "source": [
        "# **Loading**"
      ],
      "metadata": {
        "id": "mvX7T4kCn46o"
      }
    },
    {
      "cell_type": "code",
      "source": [
        "def load_data(targetfile, data_to_load):\n",
        "  data_to_load.to_csv(targetfile)"
      ],
      "metadata": {
        "id": "osMJXfQPn73W"
      },
      "execution_count": 19,
      "outputs": []
    },
    {
      "cell_type": "markdown",
      "source": [
        "# **Logging**"
      ],
      "metadata": {
        "id": "NygB5ODcoNuG"
      }
    },
    {
      "cell_type": "code",
      "source": [
        "def log_process(message):\n",
        "  timestamp_format = '%Y-%h-%d-%H:%M:%S' # Year-Monthname-Day-Hour-Minute-Second\n",
        "  now = datetime.now() # get current timestamp\n",
        "  timestamp = now.strftime(timestamp_format)\n",
        "  with open(log_file, \"a\") as f:\n",
        "    f.write(timestamp + ',' + message + '\\n')"
      ],
      "metadata": {
        "id": "jY-uergsoR3T"
      },
      "execution_count": 18,
      "outputs": []
    },
    {
      "cell_type": "markdown",
      "source": [
        "# **Testing ETL operations and log progress**"
      ],
      "metadata": {
        "id": "3qDfYBA5pUfx"
      }
    },
    {
      "cell_type": "code",
      "source": [
        "# Log the initialization of the ETL process\n",
        "log_process(\"ETL Job Started\")\n",
        "\n",
        "# Log the beginning of the Extraction process\n",
        "log_process(\"Extract phase Started\")\n",
        "extracted_data = extract()\n",
        "\n",
        "# Log the completion of the Extraction process\n",
        "log_process(\"Extract phase Ended\")\n",
        "\n",
        "# Log the beginning of the Transformation process\n",
        "log_process(\"Transform phase Started\")\n",
        "transformed_data = transform(extracted_data)\n",
        "print(\"Transformed Data\")\n",
        "print(transformed_data)\n",
        "\n",
        "# Log the completion of the Transformation process\n",
        "log_process(\"Transform phase Ended\")\n",
        "\n",
        "# Log the beginning of the Loading process\n",
        "log_process(\"Load phase Started\")\n",
        "load_data(target_file,transformed_data)\n",
        "\n",
        "# Log the completion of the Loading process\n",
        "log_process(\"Load phase Ended\")\n",
        "\n",
        "# Log the completion of the ETL process\n",
        "log_process(\"ETL Job Ended\")"
      ],
      "metadata": {
        "colab": {
          "base_uri": "https://localhost:8080/"
        },
        "id": "e7exttogpER9",
        "outputId": "2e7ad3d0-a871-419f-b691-d310fc57abaf"
      },
      "execution_count": 20,
      "outputs": [
        {
          "output_type": "stream",
          "name": "stdout",
          "text": [
            "Transformed Data\n",
            "     name  height  weight\n",
            "0    alex    1.67   51.25\n",
            "1    ajay    1.82   61.91\n",
            "2   alice    1.76   69.41\n",
            "3    ravi    1.73   64.56\n",
            "4     joe    1.72   65.45\n",
            "5    alex    1.67   51.25\n",
            "6    ajay    1.82   61.91\n",
            "7   alice    1.76   69.41\n",
            "8    ravi    1.73   64.56\n",
            "9     joe    1.72   65.45\n",
            "10   alex    1.67   51.25\n",
            "11   ajay    1.82   61.91\n",
            "12  alice    1.76   69.41\n",
            "13   ravi    1.73   64.56\n",
            "14    joe    1.72   65.45\n",
            "15   jack    1.74   55.93\n",
            "16    tom    1.77   64.18\n",
            "17  tracy    1.78   61.90\n",
            "18   john    1.72   50.97\n",
            "19   jack    1.74   55.93\n",
            "20    tom    1.77   64.18\n",
            "21  tracy    1.78   61.90\n",
            "22   john    1.72   50.97\n",
            "23   jack    1.74   55.93\n",
            "24    tom    1.77   64.18\n",
            "25  tracy    1.78   61.90\n",
            "26   john    1.72   50.97\n",
            "27  simon    1.72   50.97\n",
            "28  jacob    1.70   54.73\n",
            "29  cindy    1.69   57.81\n",
            "30   ivan    1.72   51.77\n",
            "31  simon    1.72   50.97\n",
            "32  jacob    1.70   54.73\n",
            "33  cindy    1.69   57.81\n",
            "34   ivan    1.72   51.77\n",
            "35  simon    1.72   50.97\n",
            "36  jacob    1.70   54.73\n",
            "37  cindy    1.69   57.81\n",
            "38   ivan    1.72   51.77\n"
          ]
        }
      ]
    }
  ]
}